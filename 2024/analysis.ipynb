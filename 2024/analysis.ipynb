{
 "cells": [
  {
   "cell_type": "code",
   "execution_count": 67,
   "metadata": {},
   "outputs": [],
   "source": [
    "import pandas as pd\n",
    "import numpy as np"
   ]
  },
  {
   "cell_type": "code",
   "execution_count": 57,
   "metadata": {},
   "outputs": [],
   "source": [
    "df=pd.read_excel('./江西省2024年普通高等学校招生院校专业选考科目要求（本科层次）.xlsx')"
   ]
  },
  {
   "cell_type": "code",
   "execution_count": 58,
   "metadata": {},
   "outputs": [
    {
     "data": {
      "text/html": [
       "<div>\n",
       "<style scoped>\n",
       "    .dataframe tbody tr th:only-of-type {\n",
       "        vertical-align: middle;\n",
       "    }\n",
       "\n",
       "    .dataframe tbody tr th {\n",
       "        vertical-align: top;\n",
       "    }\n",
       "\n",
       "    .dataframe thead th {\n",
       "        text-align: right;\n",
       "    }\n",
       "</style>\n",
       "<table border=\"1\" class=\"dataframe\">\n",
       "  <thead>\n",
       "    <tr style=\"text-align: right;\">\n",
       "      <th></th>\n",
       "      <th>院校</th>\n",
       "      <th>专业名称</th>\n",
       "      <th>专业选考科目要求</th>\n",
       "      <th>所在\\n省</th>\n",
       "      <th>所在\\n市</th>\n",
       "      <th>C9/985/\\n211/省重点</th>\n",
       "      <th>一流大学\\n一流学科</th>\n",
       "      <th>院校\\n性质</th>\n",
       "    </tr>\n",
       "  </thead>\n",
       "  <tbody>\n",
       "    <tr>\n",
       "      <th>0</th>\n",
       "      <td>国防科技大学</td>\n",
       "      <td>英语</td>\n",
       "      <td>不提科目要求</td>\n",
       "      <td>湖南</td>\n",
       "      <td>本部位于长沙市</td>\n",
       "      <td>985211</td>\n",
       "      <td>一流大学</td>\n",
       "      <td>军校</td>\n",
       "    </tr>\n",
       "    <tr>\n",
       "      <th>1</th>\n",
       "      <td>国防科技大学</td>\n",
       "      <td>俄语</td>\n",
       "      <td>不提科目要求</td>\n",
       "      <td>湖南</td>\n",
       "      <td>本部位于长沙市</td>\n",
       "      <td>985211</td>\n",
       "      <td>一流大学</td>\n",
       "      <td>军校</td>\n",
       "    </tr>\n",
       "    <tr>\n",
       "      <th>2</th>\n",
       "      <td>国防科技大学</td>\n",
       "      <td>德语</td>\n",
       "      <td>不提科目要求</td>\n",
       "      <td>湖南</td>\n",
       "      <td>本部位于长沙市</td>\n",
       "      <td>985211</td>\n",
       "      <td>一流大学</td>\n",
       "      <td>军校</td>\n",
       "    </tr>\n",
       "    <tr>\n",
       "      <th>3</th>\n",
       "      <td>国防科技大学</td>\n",
       "      <td>法语</td>\n",
       "      <td>不提科目要求</td>\n",
       "      <td>湖南</td>\n",
       "      <td>本部位于长沙市</td>\n",
       "      <td>985211</td>\n",
       "      <td>一流大学</td>\n",
       "      <td>军校</td>\n",
       "    </tr>\n",
       "    <tr>\n",
       "      <th>4</th>\n",
       "      <td>国防科技大学</td>\n",
       "      <td>西班牙语</td>\n",
       "      <td>不提科目要求</td>\n",
       "      <td>湖南</td>\n",
       "      <td>本部位于长沙市</td>\n",
       "      <td>985211</td>\n",
       "      <td>一流大学</td>\n",
       "      <td>军校</td>\n",
       "    </tr>\n",
       "  </tbody>\n",
       "</table>\n",
       "</div>"
      ],
      "text/plain": [
       "       院校  专业名称 专业选考科目要求 所在\\n省    所在\\n市 C9/985/\\n211/省重点 一流大学\\n一流学科 院校\\n性质\n",
       "0  国防科技大学    英语   不提科目要求    湖南  本部位于长沙市           985211       一流大学     军校\n",
       "1  国防科技大学    俄语   不提科目要求    湖南  本部位于长沙市           985211       一流大学     军校\n",
       "2  国防科技大学    德语   不提科目要求    湖南  本部位于长沙市           985211       一流大学     军校\n",
       "3  国防科技大学    法语   不提科目要求    湖南  本部位于长沙市           985211       一流大学     军校\n",
       "4  国防科技大学  西班牙语   不提科目要求    湖南  本部位于长沙市           985211       一流大学     军校"
      ]
     },
     "execution_count": 58,
     "metadata": {},
     "output_type": "execute_result"
    }
   ],
   "source": [
    "df.head()"
   ]
  },
  {
   "cell_type": "code",
   "execution_count": 59,
   "metadata": {},
   "outputs": [],
   "source": [
    "# df['专业选考科目要求'].value_counts()"
   ]
  },
  {
   "cell_type": "code",
   "execution_count": 60,
   "metadata": {},
   "outputs": [
    {
     "name": "stderr",
     "output_type": "stream",
     "text": [
      "C:\\Users\\ixixv\\AppData\\Local\\Temp\\ipykernel_27300\\19056765.py:9: FutureWarning: The default value of regex will change from True to False in a future version. In addition, single character regular expressions will *not* be treated as literal strings when regex=True.\n",
      "  df['专业选考科目要求'] = df['专业选考科目要求'].str.replace('(', \"\")\n",
      "C:\\Users\\ixixv\\AppData\\Local\\Temp\\ipykernel_27300\\19056765.py:10: FutureWarning: The default value of regex will change from True to False in a future version. In addition, single character regular expressions will *not* be treated as literal strings when regex=True.\n",
      "  df['专业选考科目要求'] = df['专业选考科目要求'].str.replace(')', \"\")\n"
     ]
    }
   ],
   "source": [
    "df['专业选考科目要求'] = df['专业选考科目要求'].str.replace('1门科目考生必须选考方可报考', \"\")\n",
    "df['专业选考科目要求'] = df['专业选考科目要求'].str.replace('2门科目考生必须选考方可报考', \"\")\n",
    "df['专业选考科目要求'] = df['专业选考科目要求'].str.replace('2门科目考生均须选考方可报考', \"\")\n",
    "df['专业选考科目要求'] = df['专业选考科目要求'].str.replace('3门科目考生必须选考方可报考', \"\")\n",
    "df['专业选考科目要求'] = df['专业选考科目要求'].str.replace('3门科目考生均须选考方可报考', \"\")\n",
    "df['专业选考科目要求'] = df['专业选考科目要求'].str.replace('2门科目考生均须选考方可报_x000D_\\n考', \"\")\n",
    "df['专业选考科目要求'] = df['专业选考科目要求'].str.replace('3门科目考生均须选考方可_x000D_\\n报考', \"\")\n",
    "df['专业选考科目要求'] = df['专业选考科目要求'].str.replace('3门科目考生均须选考_x000D_\\n方可报考', \"\")\n",
    "df['专业选考科目要求'] = df['专业选考科目要求'].str.replace('(', \"\")\n",
    "df['专业选考科目要求'] = df['专业选考科目要求'].str.replace(')', \"\")"
   ]
  },
  {
   "cell_type": "code",
   "execution_count": 61,
   "metadata": {},
   "outputs": [
    {
     "data": {
      "text/plain": [
       "物理，化学         16302\n",
       "不提科目要求        16164\n",
       "物理             1986\n",
       "历史              461\n",
       "思想政治            410\n",
       "物理，化学，生物        319\n",
       "地理              231\n",
       "生物              156\n",
       "化学              156\n",
       "思想政治，历史          82\n",
       "物理，生物            60\n",
       "物理，地理            35\n",
       "思想政治，历史，地理       33\n",
       "历史，地理            17\n",
       "化学，生物            13\n",
       "物理，思想政治          10\n",
       "物理，化学，地理          6\n",
       "生物，历史             4\n",
       "生物，思想政治           3\n",
       "思想政治，地理           2\n",
       "物理，生物，地理          2\n",
       "生物，地理             1\n",
       "化学，思想政治           1\n",
       "物理，生物，思想政治        1\n",
       "生物，思想政治，历史        1\n",
       "Name: 专业选考科目要求, dtype: int64"
      ]
     },
     "execution_count": 61,
     "metadata": {},
     "output_type": "execute_result"
    }
   ],
   "source": [
    "df['专业选考科目要求'].value_counts()"
   ]
  },
  {
   "cell_type": "code",
   "execution_count": 62,
   "metadata": {},
   "outputs": [],
   "source": [
    "import itertools"
   ]
  },
  {
   "cell_type": "code",
   "execution_count": 63,
   "metadata": {},
   "outputs": [
    {
     "data": {
      "text/plain": [
       "[('生物', '地理'),\n",
       " ('生物', '化学'),\n",
       " ('生物', '思想政治'),\n",
       " ('地理', '化学'),\n",
       " ('地理', '思想政治'),\n",
       " ('化学', '思想政治')]"
      ]
     },
     "execution_count": 63,
     "metadata": {},
     "output_type": "execute_result"
    }
   ],
   "source": [
    "list(itertools.combinations(['生物',\"地理\",\"化学\",\"思想政治\"],2))"
   ]
  },
  {
   "cell_type": "code",
   "execution_count": 86,
   "metadata": {},
   "outputs": [],
   "source": [
    "set1=['物理',\"历史\"]\n",
    "set2=list(itertools.combinations(['生物',\"地理\",\"化学\",\"思想政治\"],2))\n",
    "set=list(itertools.product(set1,set2))\n",
    "for i in range(len(set)):\n",
    "    set[i]=[set[i][0]]+(list(set[i][1]))\n"
   ]
  },
  {
   "cell_type": "code",
   "execution_count": 92,
   "metadata": {},
   "outputs": [
    {
     "data": {
      "text/plain": [
       "[['物理', '生物', '地理'],\n",
       " ['物理', '生物', '化学'],\n",
       " ['物理', '生物', '思想政治'],\n",
       " ['物理', '地理', '化学'],\n",
       " ['物理', '地理', '思想政治'],\n",
       " ['物理', '化学', '思想政治'],\n",
       " ['历史', '生物', '地理'],\n",
       " ['历史', '生物', '化学'],\n",
       " ['历史', '生物', '思想政治'],\n",
       " ['历史', '地理', '化学'],\n",
       " ['历史', '地理', '思想政治'],\n",
       " ['历史', '化学', '思想政治']]"
      ]
     },
     "execution_count": 92,
     "metadata": {},
     "output_type": "execute_result"
    }
   ],
   "source": [
    "set"
   ]
  }
 ],
 "metadata": {
  "kernelspec": {
   "display_name": "base",
   "language": "python",
   "name": "python3"
  },
  "language_info": {
   "codemirror_mode": {
    "name": "ipython",
    "version": 3
   },
   "file_extension": ".py",
   "mimetype": "text/x-python",
   "name": "python",
   "nbconvert_exporter": "python",
   "pygments_lexer": "ipython3",
   "version": "3.8.8"
  },
  "orig_nbformat": 4
 },
 "nbformat": 4,
 "nbformat_minor": 2
}
